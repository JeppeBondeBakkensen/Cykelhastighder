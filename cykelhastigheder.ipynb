{
 "cells": [
  {
   "cell_type": "code",
   "execution_count": 7,
   "id": "68a4a7bf",
   "metadata": {},
   "outputs": [],
   "source": [
    "# Packages \n",
    "import pandas as pd \n",
    "import matplotlib.pyplot as plt \n",
    "import numpy as np \n",
    "import datetime as dt"
   ]
  },
  {
   "cell_type": "code",
   "execution_count": 8,
   "id": "cd6756f1",
   "metadata": {},
   "outputs": [
    {
     "data": {
      "application/vnd.microsoft.datawrangler.viewer.v0+json": {
       "columns": [
        {
         "name": "index",
         "rawType": "int64",
         "type": "integer"
        },
        {
         "name": "@timestamp",
         "rawType": "object",
         "type": "string"
        },
        {
         "name": "siteName",
         "rawType": "object",
         "type": "string"
        },
        {
         "name": "scalarValue",
         "rawType": "float64",
         "type": "float"
        },
        {
         "name": "sensorName",
         "rawType": "object",
         "type": "string"
        }
       ],
       "ref": "5e42757c-c8d1-4d7b-9036-be5c3867179b",
       "rows": [
        [
         "0",
         "Aug 28, 2025 @ 11:04:27.993",
         "KK-4103-CO-VIS-01 - Vermlandsgade indadgående - Counting station",
         "4.444",
         "KK+CO4103=001DL001 - S0202 - Average speed"
        ],
        [
         "1",
         "Aug 28, 2025 @ 11:03:39.268",
         "KK-4103-CO-VIS-01 - Vermlandsgade indadgående - Counting station",
         "4.722",
         "KK+CO4103=001DL001 - S0202 - Average speed"
        ],
        [
         "2",
         "Aug 28, 2025 @ 11:03:31.321",
         "KK-4103-CO-VIS-01 - Vermlandsgade indadgående - Counting station",
         "3.611",
         "KK+CO4103=001DL001 - S0202 - Average speed"
        ],
        [
         "3",
         "Aug 28, 2025 @ 11:03:23.415",
         "KK-4103-CO-VIS-01 - Vermlandsgade indadgående - Counting station",
         "3.889",
         "KK+CO4103=001DL001 - S0202 - Average speed"
        ],
        [
         "4",
         "Aug 28, 2025 @ 11:01:56.461",
         "KK-4103-CO-VIS-01 - Vermlandsgade indadgående - Counting station",
         "5.0",
         "KK+CO4103=001DL001 - S0202 - Average speed"
        ],
        [
         "5",
         "Aug 28, 2025 @ 11:00:59.293",
         "KK-4103-CO-VIS-01 - Vermlandsgade indadgående - Counting station",
         "5.0",
         "KK+CO4103=001DL001 - S0202 - Average speed"
        ],
        [
         "6",
         "Aug 28, 2025 @ 11:00:51.024",
         "KK-4103-CO-VIS-01 - Vermlandsgade indadgående - Counting station",
         "4.167",
         "KK+CO4103=001DL001 - S0202 - Average speed"
        ],
        [
         "7",
         "Aug 28, 2025 @ 11:00:49.992",
         "KK-4103-CO-VIS-01 - Vermlandsgade indadgående - Counting station",
         "4.722",
         "KK+CO4103=001DL001 - S0202 - Average speed"
        ],
        [
         "8",
         "Aug 28, 2025 @ 11:00:32.508",
         "KK-4103-CO-VIS-01 - Vermlandsgade indadgående - Counting station",
         "4.167",
         "KK+CO4103=001DL001 - S0202 - Average speed"
        ],
        [
         "9",
         "Aug 28, 2025 @ 11:00:31.106",
         "KK-4103-CO-VIS-01 - Vermlandsgade indadgående - Counting station",
         "5.0",
         "KK+CO4103=001DL001 - S0202 - Average speed"
        ],
        [
         "10",
         "Aug 28, 2025 @ 10:57:24.707",
         "KK-4103-CO-VIS-01 - Vermlandsgade indadgående - Counting station",
         "3.056",
         "KK+CO4103=001DL001 - S0202 - Average speed"
        ],
        [
         "11",
         "Aug 28, 2025 @ 10:57:22.159",
         "KK-4103-CO-VIS-01 - Vermlandsgade indadgående - Counting station",
         "3.611",
         "KK+CO4103=001DL001 - S0202 - Average speed"
        ],
        [
         "12",
         "Aug 28, 2025 @ 10:57:21.804",
         "KK-4103-CO-VIS-01 - Vermlandsgade indadgående - Counting station",
         "2.778",
         "KK+CO4103=001DL001 - S0202 - Average speed"
        ],
        [
         "13",
         "Aug 28, 2025 @ 10:56:32.596",
         "KK-4103-CO-VIS-01 - Vermlandsgade indadgående - Counting station",
         "4.722",
         "KK+CO4103=001DL001 - S0202 - Average speed"
        ],
        [
         "14",
         "Aug 28, 2025 @ 10:55:31.053",
         "KK-4103-CO-VIS-01 - Vermlandsgade indadgående - Counting station",
         "2.778",
         "KK+CO4103=001DL001 - S0202 - Average speed"
        ],
        [
         "15",
         "Aug 28, 2025 @ 10:53:35.604",
         "KK-4103-CO-VIS-01 - Vermlandsgade indadgående - Counting station",
         "7.222",
         "KK+CO4103=001DL001 - S0202 - Average speed"
        ],
        [
         "16",
         "Aug 28, 2025 @ 10:53:24.105",
         "KK-4103-CO-VIS-01 - Vermlandsgade indadgående - Counting station",
         "6.389",
         "KK+CO4103=001DL001 - S0202 - Average speed"
        ],
        [
         "17",
         "Aug 28, 2025 @ 10:52:34.985",
         "KK-4103-CO-VIS-01 - Vermlandsgade indadgående - Counting station",
         "3.611",
         "KK+CO4103=001DL001 - S0202 - Average speed"
        ],
        [
         "18",
         "Aug 28, 2025 @ 10:52:23.922",
         "KK-4103-CO-VIS-01 - Vermlandsgade indadgående - Counting station",
         "6.389",
         "KK+CO4103=001DL001 - S0202 - Average speed"
        ],
        [
         "19",
         "Aug 28, 2025 @ 10:52:17.188",
         "KK-4103-CO-VIS-01 - Vermlandsgade indadgående - Counting station",
         "3.611",
         "KK+CO4103=001DL001 - S0202 - Average speed"
        ],
        [
         "20",
         "Aug 28, 2025 @ 10:51:20.267",
         "KK-4103-CO-VIS-01 - Vermlandsgade indadgående - Counting station",
         "4.444",
         "KK+CO4103=001DL001 - S0202 - Average speed"
        ],
        [
         "21",
         "Aug 28, 2025 @ 10:50:23.382",
         "KK-4103-CO-VIS-01 - Vermlandsgade indadgående - Counting station",
         "3.889",
         "KK+CO4103=001DL001 - S0202 - Average speed"
        ],
        [
         "22",
         "Aug 28, 2025 @ 10:48:30.474",
         "KK-4103-CO-VIS-01 - Vermlandsgade indadgående - Counting station",
         "4.444",
         "KK+CO4103=001DL001 - S0202 - Average speed"
        ],
        [
         "23",
         "Aug 28, 2025 @ 10:46:06.275",
         "KK-4103-CO-VIS-01 - Vermlandsgade indadgående - Counting station",
         "4.722",
         "KK+CO4103=001DL001 - S0202 - Average speed"
        ],
        [
         "24",
         "Aug 28, 2025 @ 10:46:05.217",
         "KK-4103-CO-VIS-01 - Vermlandsgade indadgående - Counting station",
         "4.444",
         "KK+CO4103=001DL001 - S0202 - Average speed"
        ],
        [
         "25",
         "Aug 28, 2025 @ 10:46:04.083",
         "KK-4103-CO-VIS-01 - Vermlandsgade indadgående - Counting station",
         "4.167",
         "KK+CO4103=001DL001 - S0202 - Average speed"
        ],
        [
         "26",
         "Aug 28, 2025 @ 10:45:51.261",
         "KK-4103-CO-VIS-01 - Vermlandsgade indadgående - Counting station",
         "6.389",
         "KK+CO4103=001DL001 - S0202 - Average speed"
        ],
        [
         "27",
         "Aug 28, 2025 @ 10:45:50.482",
         "KK-4103-CO-VIS-01 - Vermlandsgade indadgående - Counting station",
         "4.167",
         "KK+CO4103=001DL001 - S0202 - Average speed"
        ],
        [
         "28",
         "Aug 28, 2025 @ 10:45:44.557",
         "KK-4103-CO-VIS-01 - Vermlandsgade indadgående - Counting station",
         "4.722",
         "KK+CO4103=001DL001 - S0202 - Average speed"
        ],
        [
         "29",
         "Aug 28, 2025 @ 10:45:00.998",
         "KK-4103-CO-VIS-01 - Vermlandsgade indadgående - Counting station",
         "3.889",
         "KK+CO4103=001DL001 - S0202 - Average speed"
        ],
        [
         "30",
         "Aug 28, 2025 @ 10:44:34.665",
         "KK-4103-CO-VIS-01 - Vermlandsgade indadgående - Counting station",
         "3.611",
         "KK+CO4103=001DL001 - S0202 - Average speed"
        ],
        [
         "31",
         "Aug 28, 2025 @ 10:44:20.480",
         "KK-4103-CO-VIS-01 - Vermlandsgade indadgående - Counting station",
         "5.833",
         "KK+CO4103=001DL001 - S0202 - Average speed"
        ],
        [
         "32",
         "Aug 28, 2025 @ 10:43:41.919",
         "KK-4103-CO-VIS-01 - Vermlandsgade indadgående - Counting station",
         "4.167",
         "KK+CO4103=001DL001 - S0202 - Average speed"
        ],
        [
         "33",
         "Aug 28, 2025 @ 10:42:01.925",
         "KK-4103-CO-VIS-01 - Vermlandsgade indadgående - Counting station",
         "5.0",
         "KK+CO4103=001DL001 - S0202 - Average speed"
        ],
        [
         "34",
         "Aug 28, 2025 @ 10:41:56.965",
         "KK-4103-CO-VIS-01 - Vermlandsgade indadgående - Counting station",
         "5.278",
         "KK+CO4103=001DL001 - S0202 - Average speed"
        ],
        [
         "35",
         "Aug 28, 2025 @ 10:40:26.175",
         "KK-4103-CO-VIS-01 - Vermlandsgade indadgående - Counting station",
         "3.889",
         "KK+CO4103=001DL001 - S0202 - Average speed"
        ],
        [
         "36",
         "Aug 28, 2025 @ 10:39:28.949",
         "KK-4103-CO-VIS-01 - Vermlandsgade indadgående - Counting station",
         "4.167",
         "KK+CO4103=001DL001 - S0202 - Average speed"
        ],
        [
         "37",
         "Aug 28, 2025 @ 10:38:51.075",
         "KK-4103-CO-VIS-01 - Vermlandsgade indadgående - Counting station",
         "3.333",
         "KK+CO4103=001DL001 - S0202 - Average speed"
        ],
        [
         "38",
         "Aug 28, 2025 @ 10:38:50.715",
         "KK-4103-CO-VIS-01 - Vermlandsgade indadgående - Counting station",
         "6.389",
         "KK+CO4103=001DL001 - S0202 - Average speed"
        ],
        [
         "39",
         "Aug 28, 2025 @ 10:37:54.607",
         "KK-4103-CO-VIS-01 - Vermlandsgade indadgående - Counting station",
         "3.611",
         "KK+CO4103=001DL001 - S0202 - Average speed"
        ],
        [
         "40",
         "Aug 28, 2025 @ 10:36:50.943",
         "KK-4103-CO-VIS-01 - Vermlandsgade indadgående - Counting station",
         "2.5",
         "KK+CO4103=001DL001 - S0202 - Average speed"
        ],
        [
         "41",
         "Aug 28, 2025 @ 10:35:23.924",
         "KK-4103-CO-VIS-01 - Vermlandsgade indadgående - Counting station",
         "4.444",
         "KK+CO4103=001DL001 - S0202 - Average speed"
        ],
        [
         "42",
         "Aug 28, 2025 @ 10:35:23.479",
         "KK-4103-CO-VIS-01 - Vermlandsgade indadgående - Counting station",
         "3.889",
         "KK+CO4103=001DL001 - S0202 - Average speed"
        ],
        [
         "43",
         "Aug 28, 2025 @ 10:35:21.995",
         "KK-4103-CO-VIS-01 - Vermlandsgade indadgående - Counting station",
         "5.278",
         "KK+CO4103=001DL001 - S0202 - Average speed"
        ],
        [
         "44",
         "Aug 28, 2025 @ 10:34:52.004",
         "KK-4103-CO-VIS-01 - Vermlandsgade indadgående - Counting station",
         "4.167",
         "KK+CO4103=001DL001 - S0202 - Average speed"
        ],
        [
         "45",
         "Aug 28, 2025 @ 10:34:45.021",
         "KK-4103-CO-VIS-01 - Vermlandsgade indadgående - Counting station",
         "3.889",
         "KK+CO4103=001DL001 - S0202 - Average speed"
        ],
        [
         "46",
         "Aug 28, 2025 @ 10:34:41.260",
         "KK-4103-CO-VIS-01 - Vermlandsgade indadgående - Counting station",
         "3.611",
         "KK+CO4103=001DL001 - S0202 - Average speed"
        ],
        [
         "47",
         "Aug 28, 2025 @ 10:33:57.905",
         "KK-4103-CO-VIS-01 - Vermlandsgade indadgående - Counting station",
         "4.167",
         "KK+CO4103=001DL001 - S0202 - Average speed"
        ],
        [
         "48",
         "Aug 28, 2025 @ 10:33:53.484",
         "KK-4103-CO-VIS-01 - Vermlandsgade indadgående - Counting station",
         "4.444",
         "KK+CO4103=001DL001 - S0202 - Average speed"
        ],
        [
         "49",
         "Aug 28, 2025 @ 10:33:50.554",
         "KK-4103-CO-VIS-01 - Vermlandsgade indadgående - Counting station",
         "3.889",
         "KK+CO4103=001DL001 - S0202 - Average speed"
        ]
       ],
       "shape": {
        "columns": 4,
        "rows": 83885
       }
      },
      "text/html": [
       "<div>\n",
       "<style scoped>\n",
       "    .dataframe tbody tr th:only-of-type {\n",
       "        vertical-align: middle;\n",
       "    }\n",
       "\n",
       "    .dataframe tbody tr th {\n",
       "        vertical-align: top;\n",
       "    }\n",
       "\n",
       "    .dataframe thead th {\n",
       "        text-align: right;\n",
       "    }\n",
       "</style>\n",
       "<table border=\"1\" class=\"dataframe\">\n",
       "  <thead>\n",
       "    <tr style=\"text-align: right;\">\n",
       "      <th></th>\n",
       "      <th>@timestamp</th>\n",
       "      <th>siteName</th>\n",
       "      <th>scalarValue</th>\n",
       "      <th>sensorName</th>\n",
       "    </tr>\n",
       "  </thead>\n",
       "  <tbody>\n",
       "    <tr>\n",
       "      <th>0</th>\n",
       "      <td>Aug 28, 2025 @ 11:04:27.993</td>\n",
       "      <td>KK-4103-CO-VIS-01 - Vermlandsgade indadgående ...</td>\n",
       "      <td>4.444</td>\n",
       "      <td>KK+CO4103=001DL001 - S0202 - Average speed</td>\n",
       "    </tr>\n",
       "    <tr>\n",
       "      <th>1</th>\n",
       "      <td>Aug 28, 2025 @ 11:03:39.268</td>\n",
       "      <td>KK-4103-CO-VIS-01 - Vermlandsgade indadgående ...</td>\n",
       "      <td>4.722</td>\n",
       "      <td>KK+CO4103=001DL001 - S0202 - Average speed</td>\n",
       "    </tr>\n",
       "    <tr>\n",
       "      <th>2</th>\n",
       "      <td>Aug 28, 2025 @ 11:03:31.321</td>\n",
       "      <td>KK-4103-CO-VIS-01 - Vermlandsgade indadgående ...</td>\n",
       "      <td>3.611</td>\n",
       "      <td>KK+CO4103=001DL001 - S0202 - Average speed</td>\n",
       "    </tr>\n",
       "    <tr>\n",
       "      <th>3</th>\n",
       "      <td>Aug 28, 2025 @ 11:03:23.415</td>\n",
       "      <td>KK-4103-CO-VIS-01 - Vermlandsgade indadgående ...</td>\n",
       "      <td>3.889</td>\n",
       "      <td>KK+CO4103=001DL001 - S0202 - Average speed</td>\n",
       "    </tr>\n",
       "    <tr>\n",
       "      <th>4</th>\n",
       "      <td>Aug 28, 2025 @ 11:01:56.461</td>\n",
       "      <td>KK-4103-CO-VIS-01 - Vermlandsgade indadgående ...</td>\n",
       "      <td>5.000</td>\n",
       "      <td>KK+CO4103=001DL001 - S0202 - Average speed</td>\n",
       "    </tr>\n",
       "    <tr>\n",
       "      <th>...</th>\n",
       "      <td>...</td>\n",
       "      <td>...</td>\n",
       "      <td>...</td>\n",
       "      <td>...</td>\n",
       "    </tr>\n",
       "    <tr>\n",
       "      <th>83880</th>\n",
       "      <td>Jul 28, 2025 @ 11:10:01.063</td>\n",
       "      <td>KK-4103-CO-VIS-01 - Vermlandsgade indadgående ...</td>\n",
       "      <td>3.611</td>\n",
       "      <td>KK+CO4103=001DL001 - S0202 - Average speed</td>\n",
       "    </tr>\n",
       "    <tr>\n",
       "      <th>83881</th>\n",
       "      <td>Jul 28, 2025 @ 11:09:44.903</td>\n",
       "      <td>KK-4103-CO-VIS-01 - Vermlandsgade indadgående ...</td>\n",
       "      <td>5.000</td>\n",
       "      <td>KK+CO4103=001DL001 - S0202 - Average speed</td>\n",
       "    </tr>\n",
       "    <tr>\n",
       "      <th>83882</th>\n",
       "      <td>Jul 28, 2025 @ 11:09:26.839</td>\n",
       "      <td>KK-4103-CO-VIS-01 - Vermlandsgade indadgående ...</td>\n",
       "      <td>6.389</td>\n",
       "      <td>KK+CO4103=001DL001 - S0202 - Average speed</td>\n",
       "    </tr>\n",
       "    <tr>\n",
       "      <th>83883</th>\n",
       "      <td>Jul 28, 2025 @ 11:08:40.749</td>\n",
       "      <td>KK-4103-CO-VIS-01 - Vermlandsgade indadgående ...</td>\n",
       "      <td>3.889</td>\n",
       "      <td>KK+CO4103=001DL001 - S0202 - Average speed</td>\n",
       "    </tr>\n",
       "    <tr>\n",
       "      <th>83884</th>\n",
       "      <td>Jul 28, 2025 @ 11:08:26.339</td>\n",
       "      <td>KK-4103-CO-VIS-01 - Vermlandsgade indadgående ...</td>\n",
       "      <td>6.389</td>\n",
       "      <td>KK+CO4103=001DL001 - S0202 - Average speed</td>\n",
       "    </tr>\n",
       "  </tbody>\n",
       "</table>\n",
       "<p>83885 rows × 4 columns</p>\n",
       "</div>"
      ],
      "text/plain": [
       "                        @timestamp  \\\n",
       "0      Aug 28, 2025 @ 11:04:27.993   \n",
       "1      Aug 28, 2025 @ 11:03:39.268   \n",
       "2      Aug 28, 2025 @ 11:03:31.321   \n",
       "3      Aug 28, 2025 @ 11:03:23.415   \n",
       "4      Aug 28, 2025 @ 11:01:56.461   \n",
       "...                            ...   \n",
       "83880  Jul 28, 2025 @ 11:10:01.063   \n",
       "83881  Jul 28, 2025 @ 11:09:44.903   \n",
       "83882  Jul 28, 2025 @ 11:09:26.839   \n",
       "83883  Jul 28, 2025 @ 11:08:40.749   \n",
       "83884  Jul 28, 2025 @ 11:08:26.339   \n",
       "\n",
       "                                                siteName  scalarValue  \\\n",
       "0      KK-4103-CO-VIS-01 - Vermlandsgade indadgående ...        4.444   \n",
       "1      KK-4103-CO-VIS-01 - Vermlandsgade indadgående ...        4.722   \n",
       "2      KK-4103-CO-VIS-01 - Vermlandsgade indadgående ...        3.611   \n",
       "3      KK-4103-CO-VIS-01 - Vermlandsgade indadgående ...        3.889   \n",
       "4      KK-4103-CO-VIS-01 - Vermlandsgade indadgående ...        5.000   \n",
       "...                                                  ...          ...   \n",
       "83880  KK-4103-CO-VIS-01 - Vermlandsgade indadgående ...        3.611   \n",
       "83881  KK-4103-CO-VIS-01 - Vermlandsgade indadgående ...        5.000   \n",
       "83882  KK-4103-CO-VIS-01 - Vermlandsgade indadgående ...        6.389   \n",
       "83883  KK-4103-CO-VIS-01 - Vermlandsgade indadgående ...        3.889   \n",
       "83884  KK-4103-CO-VIS-01 - Vermlandsgade indadgående ...        6.389   \n",
       "\n",
       "                                       sensorName  \n",
       "0      KK+CO4103=001DL001 - S0202 - Average speed  \n",
       "1      KK+CO4103=001DL001 - S0202 - Average speed  \n",
       "2      KK+CO4103=001DL001 - S0202 - Average speed  \n",
       "3      KK+CO4103=001DL001 - S0202 - Average speed  \n",
       "4      KK+CO4103=001DL001 - S0202 - Average speed  \n",
       "...                                           ...  \n",
       "83880  KK+CO4103=001DL001 - S0202 - Average speed  \n",
       "83881  KK+CO4103=001DL001 - S0202 - Average speed  \n",
       "83882  KK+CO4103=001DL001 - S0202 - Average speed  \n",
       "83883  KK+CO4103=001DL001 - S0202 - Average speed  \n",
       "83884  KK+CO4103=001DL001 - S0202 - Average speed  \n",
       "\n",
       "[83885 rows x 4 columns]"
      ]
     },
     "metadata": {},
     "output_type": "display_data"
    }
   ],
   "source": [
    "# Load dataset \n",
    "cykelhastighed = pd.read_csv(\"Vermlandsgade_cykelhastigheder.csv\")\n",
    "\n",
    "display(cykelhastighed)"
   ]
  },
  {
   "cell_type": "code",
   "execution_count": null,
   "id": "643ece51",
   "metadata": {},
   "outputs": [
    {
     "data": {
      "application/vnd.microsoft.datawrangler.viewer.v0+json": {
       "columns": [
        {
         "name": "index",
         "rawType": "int64",
         "type": "integer"
        },
        {
         "name": "siteName",
         "rawType": "object",
         "type": "string"
        },
        {
         "name": "scalarValue",
         "rawType": "float64",
         "type": "float"
        },
        {
         "name": "sensorName",
         "rawType": "object",
         "type": "string"
        },
        {
         "name": "timestamp",
         "rawType": "datetime64[ns]",
         "type": "datetime"
        },
        {
         "name": "year",
         "rawType": "int32",
         "type": "integer"
        },
        {
         "name": "month",
         "rawType": "int32",
         "type": "integer"
        },
        {
         "name": "day",
         "rawType": "int32",
         "type": "integer"
        },
        {
         "name": "time",
         "rawType": "object",
         "type": "unknown"
        }
       ],
       "ref": "365beb97-c21f-4c12-bc56-d1b306c09023",
       "rows": [
        [
         "0",
         "KK-4103-CO-VIS-01 - Vermlandsgade indadgående - Counting station",
         "4.444",
         "KK+CO4103=001DL001 - S0202 - Average speed",
         "2025-08-28 11:04:27.993000",
         "2025",
         "8",
         "28",
         "11:04:27.993000"
        ],
        [
         "1",
         "KK-4103-CO-VIS-01 - Vermlandsgade indadgående - Counting station",
         "4.722",
         "KK+CO4103=001DL001 - S0202 - Average speed",
         "2025-08-28 11:03:39.268000",
         "2025",
         "8",
         "28",
         "11:03:39.268000"
        ],
        [
         "2",
         "KK-4103-CO-VIS-01 - Vermlandsgade indadgående - Counting station",
         "3.611",
         "KK+CO4103=001DL001 - S0202 - Average speed",
         "2025-08-28 11:03:31.321000",
         "2025",
         "8",
         "28",
         "11:03:31.321000"
        ],
        [
         "3",
         "KK-4103-CO-VIS-01 - Vermlandsgade indadgående - Counting station",
         "3.889",
         "KK+CO4103=001DL001 - S0202 - Average speed",
         "2025-08-28 11:03:23.415000",
         "2025",
         "8",
         "28",
         "11:03:23.415000"
        ],
        [
         "4",
         "KK-4103-CO-VIS-01 - Vermlandsgade indadgående - Counting station",
         "5.0",
         "KK+CO4103=001DL001 - S0202 - Average speed",
         "2025-08-28 11:01:56.461000",
         "2025",
         "8",
         "28",
         "11:01:56.461000"
        ],
        [
         "5",
         "KK-4103-CO-VIS-01 - Vermlandsgade indadgående - Counting station",
         "5.0",
         "KK+CO4103=001DL001 - S0202 - Average speed",
         "2025-08-28 11:00:59.293000",
         "2025",
         "8",
         "28",
         "11:00:59.293000"
        ],
        [
         "6",
         "KK-4103-CO-VIS-01 - Vermlandsgade indadgående - Counting station",
         "4.167",
         "KK+CO4103=001DL001 - S0202 - Average speed",
         "2025-08-28 11:00:51.024000",
         "2025",
         "8",
         "28",
         "11:00:51.024000"
        ],
        [
         "7",
         "KK-4103-CO-VIS-01 - Vermlandsgade indadgående - Counting station",
         "4.722",
         "KK+CO4103=001DL001 - S0202 - Average speed",
         "2025-08-28 11:00:49.992000",
         "2025",
         "8",
         "28",
         "11:00:49.992000"
        ],
        [
         "8",
         "KK-4103-CO-VIS-01 - Vermlandsgade indadgående - Counting station",
         "4.167",
         "KK+CO4103=001DL001 - S0202 - Average speed",
         "2025-08-28 11:00:32.508000",
         "2025",
         "8",
         "28",
         "11:00:32.508000"
        ],
        [
         "9",
         "KK-4103-CO-VIS-01 - Vermlandsgade indadgående - Counting station",
         "5.0",
         "KK+CO4103=001DL001 - S0202 - Average speed",
         "2025-08-28 11:00:31.106000",
         "2025",
         "8",
         "28",
         "11:00:31.106000"
        ],
        [
         "10",
         "KK-4103-CO-VIS-01 - Vermlandsgade indadgående - Counting station",
         "3.056",
         "KK+CO4103=001DL001 - S0202 - Average speed",
         "2025-08-28 10:57:24.707000",
         "2025",
         "8",
         "28",
         "10:57:24.707000"
        ],
        [
         "11",
         "KK-4103-CO-VIS-01 - Vermlandsgade indadgående - Counting station",
         "3.611",
         "KK+CO4103=001DL001 - S0202 - Average speed",
         "2025-08-28 10:57:22.159000",
         "2025",
         "8",
         "28",
         "10:57:22.159000"
        ],
        [
         "12",
         "KK-4103-CO-VIS-01 - Vermlandsgade indadgående - Counting station",
         "2.778",
         "KK+CO4103=001DL001 - S0202 - Average speed",
         "2025-08-28 10:57:21.804000",
         "2025",
         "8",
         "28",
         "10:57:21.804000"
        ],
        [
         "13",
         "KK-4103-CO-VIS-01 - Vermlandsgade indadgående - Counting station",
         "4.722",
         "KK+CO4103=001DL001 - S0202 - Average speed",
         "2025-08-28 10:56:32.596000",
         "2025",
         "8",
         "28",
         "10:56:32.596000"
        ],
        [
         "14",
         "KK-4103-CO-VIS-01 - Vermlandsgade indadgående - Counting station",
         "2.778",
         "KK+CO4103=001DL001 - S0202 - Average speed",
         "2025-08-28 10:55:31.053000",
         "2025",
         "8",
         "28",
         "10:55:31.053000"
        ],
        [
         "15",
         "KK-4103-CO-VIS-01 - Vermlandsgade indadgående - Counting station",
         "7.222",
         "KK+CO4103=001DL001 - S0202 - Average speed",
         "2025-08-28 10:53:35.604000",
         "2025",
         "8",
         "28",
         "10:53:35.604000"
        ],
        [
         "16",
         "KK-4103-CO-VIS-01 - Vermlandsgade indadgående - Counting station",
         "6.389",
         "KK+CO4103=001DL001 - S0202 - Average speed",
         "2025-08-28 10:53:24.105000",
         "2025",
         "8",
         "28",
         "10:53:24.105000"
        ],
        [
         "17",
         "KK-4103-CO-VIS-01 - Vermlandsgade indadgående - Counting station",
         "3.611",
         "KK+CO4103=001DL001 - S0202 - Average speed",
         "2025-08-28 10:52:34.985000",
         "2025",
         "8",
         "28",
         "10:52:34.985000"
        ],
        [
         "18",
         "KK-4103-CO-VIS-01 - Vermlandsgade indadgående - Counting station",
         "6.389",
         "KK+CO4103=001DL001 - S0202 - Average speed",
         "2025-08-28 10:52:23.922000",
         "2025",
         "8",
         "28",
         "10:52:23.922000"
        ],
        [
         "19",
         "KK-4103-CO-VIS-01 - Vermlandsgade indadgående - Counting station",
         "3.611",
         "KK+CO4103=001DL001 - S0202 - Average speed",
         "2025-08-28 10:52:17.188000",
         "2025",
         "8",
         "28",
         "10:52:17.188000"
        ],
        [
         "20",
         "KK-4103-CO-VIS-01 - Vermlandsgade indadgående - Counting station",
         "4.444",
         "KK+CO4103=001DL001 - S0202 - Average speed",
         "2025-08-28 10:51:20.267000",
         "2025",
         "8",
         "28",
         "10:51:20.267000"
        ],
        [
         "21",
         "KK-4103-CO-VIS-01 - Vermlandsgade indadgående - Counting station",
         "3.889",
         "KK+CO4103=001DL001 - S0202 - Average speed",
         "2025-08-28 10:50:23.382000",
         "2025",
         "8",
         "28",
         "10:50:23.382000"
        ],
        [
         "22",
         "KK-4103-CO-VIS-01 - Vermlandsgade indadgående - Counting station",
         "4.444",
         "KK+CO4103=001DL001 - S0202 - Average speed",
         "2025-08-28 10:48:30.474000",
         "2025",
         "8",
         "28",
         "10:48:30.474000"
        ],
        [
         "23",
         "KK-4103-CO-VIS-01 - Vermlandsgade indadgående - Counting station",
         "4.722",
         "KK+CO4103=001DL001 - S0202 - Average speed",
         "2025-08-28 10:46:06.275000",
         "2025",
         "8",
         "28",
         "10:46:06.275000"
        ],
        [
         "24",
         "KK-4103-CO-VIS-01 - Vermlandsgade indadgående - Counting station",
         "4.444",
         "KK+CO4103=001DL001 - S0202 - Average speed",
         "2025-08-28 10:46:05.217000",
         "2025",
         "8",
         "28",
         "10:46:05.217000"
        ],
        [
         "25",
         "KK-4103-CO-VIS-01 - Vermlandsgade indadgående - Counting station",
         "4.167",
         "KK+CO4103=001DL001 - S0202 - Average speed",
         "2025-08-28 10:46:04.083000",
         "2025",
         "8",
         "28",
         "10:46:04.083000"
        ],
        [
         "26",
         "KK-4103-CO-VIS-01 - Vermlandsgade indadgående - Counting station",
         "6.389",
         "KK+CO4103=001DL001 - S0202 - Average speed",
         "2025-08-28 10:45:51.261000",
         "2025",
         "8",
         "28",
         "10:45:51.261000"
        ],
        [
         "27",
         "KK-4103-CO-VIS-01 - Vermlandsgade indadgående - Counting station",
         "4.167",
         "KK+CO4103=001DL001 - S0202 - Average speed",
         "2025-08-28 10:45:50.482000",
         "2025",
         "8",
         "28",
         "10:45:50.482000"
        ],
        [
         "28",
         "KK-4103-CO-VIS-01 - Vermlandsgade indadgående - Counting station",
         "4.722",
         "KK+CO4103=001DL001 - S0202 - Average speed",
         "2025-08-28 10:45:44.557000",
         "2025",
         "8",
         "28",
         "10:45:44.557000"
        ],
        [
         "29",
         "KK-4103-CO-VIS-01 - Vermlandsgade indadgående - Counting station",
         "3.889",
         "KK+CO4103=001DL001 - S0202 - Average speed",
         "2025-08-28 10:45:00.998000",
         "2025",
         "8",
         "28",
         "10:45:00.998000"
        ],
        [
         "30",
         "KK-4103-CO-VIS-01 - Vermlandsgade indadgående - Counting station",
         "3.611",
         "KK+CO4103=001DL001 - S0202 - Average speed",
         "2025-08-28 10:44:34.665000",
         "2025",
         "8",
         "28",
         "10:44:34.665000"
        ],
        [
         "31",
         "KK-4103-CO-VIS-01 - Vermlandsgade indadgående - Counting station",
         "5.833",
         "KK+CO4103=001DL001 - S0202 - Average speed",
         "2025-08-28 10:44:20.480000",
         "2025",
         "8",
         "28",
         "10:44:20.480000"
        ],
        [
         "32",
         "KK-4103-CO-VIS-01 - Vermlandsgade indadgående - Counting station",
         "4.167",
         "KK+CO4103=001DL001 - S0202 - Average speed",
         "2025-08-28 10:43:41.919000",
         "2025",
         "8",
         "28",
         "10:43:41.919000"
        ],
        [
         "33",
         "KK-4103-CO-VIS-01 - Vermlandsgade indadgående - Counting station",
         "5.0",
         "KK+CO4103=001DL001 - S0202 - Average speed",
         "2025-08-28 10:42:01.925000",
         "2025",
         "8",
         "28",
         "10:42:01.925000"
        ],
        [
         "34",
         "KK-4103-CO-VIS-01 - Vermlandsgade indadgående - Counting station",
         "5.278",
         "KK+CO4103=001DL001 - S0202 - Average speed",
         "2025-08-28 10:41:56.965000",
         "2025",
         "8",
         "28",
         "10:41:56.965000"
        ],
        [
         "35",
         "KK-4103-CO-VIS-01 - Vermlandsgade indadgående - Counting station",
         "3.889",
         "KK+CO4103=001DL001 - S0202 - Average speed",
         "2025-08-28 10:40:26.175000",
         "2025",
         "8",
         "28",
         "10:40:26.175000"
        ],
        [
         "36",
         "KK-4103-CO-VIS-01 - Vermlandsgade indadgående - Counting station",
         "4.167",
         "KK+CO4103=001DL001 - S0202 - Average speed",
         "2025-08-28 10:39:28.949000",
         "2025",
         "8",
         "28",
         "10:39:28.949000"
        ],
        [
         "37",
         "KK-4103-CO-VIS-01 - Vermlandsgade indadgående - Counting station",
         "3.333",
         "KK+CO4103=001DL001 - S0202 - Average speed",
         "2025-08-28 10:38:51.075000",
         "2025",
         "8",
         "28",
         "10:38:51.075000"
        ],
        [
         "38",
         "KK-4103-CO-VIS-01 - Vermlandsgade indadgående - Counting station",
         "6.389",
         "KK+CO4103=001DL001 - S0202 - Average speed",
         "2025-08-28 10:38:50.715000",
         "2025",
         "8",
         "28",
         "10:38:50.715000"
        ],
        [
         "39",
         "KK-4103-CO-VIS-01 - Vermlandsgade indadgående - Counting station",
         "3.611",
         "KK+CO4103=001DL001 - S0202 - Average speed",
         "2025-08-28 10:37:54.607000",
         "2025",
         "8",
         "28",
         "10:37:54.607000"
        ],
        [
         "40",
         "KK-4103-CO-VIS-01 - Vermlandsgade indadgående - Counting station",
         "2.5",
         "KK+CO4103=001DL001 - S0202 - Average speed",
         "2025-08-28 10:36:50.943000",
         "2025",
         "8",
         "28",
         "10:36:50.943000"
        ],
        [
         "41",
         "KK-4103-CO-VIS-01 - Vermlandsgade indadgående - Counting station",
         "4.444",
         "KK+CO4103=001DL001 - S0202 - Average speed",
         "2025-08-28 10:35:23.924000",
         "2025",
         "8",
         "28",
         "10:35:23.924000"
        ],
        [
         "42",
         "KK-4103-CO-VIS-01 - Vermlandsgade indadgående - Counting station",
         "3.889",
         "KK+CO4103=001DL001 - S0202 - Average speed",
         "2025-08-28 10:35:23.479000",
         "2025",
         "8",
         "28",
         "10:35:23.479000"
        ],
        [
         "43",
         "KK-4103-CO-VIS-01 - Vermlandsgade indadgående - Counting station",
         "5.278",
         "KK+CO4103=001DL001 - S0202 - Average speed",
         "2025-08-28 10:35:21.995000",
         "2025",
         "8",
         "28",
         "10:35:21.995000"
        ],
        [
         "44",
         "KK-4103-CO-VIS-01 - Vermlandsgade indadgående - Counting station",
         "4.167",
         "KK+CO4103=001DL001 - S0202 - Average speed",
         "2025-08-28 10:34:52.004000",
         "2025",
         "8",
         "28",
         "10:34:52.004000"
        ],
        [
         "45",
         "KK-4103-CO-VIS-01 - Vermlandsgade indadgående - Counting station",
         "3.889",
         "KK+CO4103=001DL001 - S0202 - Average speed",
         "2025-08-28 10:34:45.021000",
         "2025",
         "8",
         "28",
         "10:34:45.021000"
        ],
        [
         "46",
         "KK-4103-CO-VIS-01 - Vermlandsgade indadgående - Counting station",
         "3.611",
         "KK+CO4103=001DL001 - S0202 - Average speed",
         "2025-08-28 10:34:41.260000",
         "2025",
         "8",
         "28",
         "10:34:41.260000"
        ],
        [
         "47",
         "KK-4103-CO-VIS-01 - Vermlandsgade indadgående - Counting station",
         "4.167",
         "KK+CO4103=001DL001 - S0202 - Average speed",
         "2025-08-28 10:33:57.905000",
         "2025",
         "8",
         "28",
         "10:33:57.905000"
        ],
        [
         "48",
         "KK-4103-CO-VIS-01 - Vermlandsgade indadgående - Counting station",
         "4.444",
         "KK+CO4103=001DL001 - S0202 - Average speed",
         "2025-08-28 10:33:53.484000",
         "2025",
         "8",
         "28",
         "10:33:53.484000"
        ],
        [
         "49",
         "KK-4103-CO-VIS-01 - Vermlandsgade indadgående - Counting station",
         "3.889",
         "KK+CO4103=001DL001 - S0202 - Average speed",
         "2025-08-28 10:33:50.554000",
         "2025",
         "8",
         "28",
         "10:33:50.554000"
        ]
       ],
       "shape": {
        "columns": 8,
        "rows": 83885
       }
      },
      "text/html": [
       "<div>\n",
       "<style scoped>\n",
       "    .dataframe tbody tr th:only-of-type {\n",
       "        vertical-align: middle;\n",
       "    }\n",
       "\n",
       "    .dataframe tbody tr th {\n",
       "        vertical-align: top;\n",
       "    }\n",
       "\n",
       "    .dataframe thead th {\n",
       "        text-align: right;\n",
       "    }\n",
       "</style>\n",
       "<table border=\"1\" class=\"dataframe\">\n",
       "  <thead>\n",
       "    <tr style=\"text-align: right;\">\n",
       "      <th></th>\n",
       "      <th>siteName</th>\n",
       "      <th>scalarValue</th>\n",
       "      <th>sensorName</th>\n",
       "      <th>timestamp</th>\n",
       "      <th>year</th>\n",
       "      <th>month</th>\n",
       "      <th>day</th>\n",
       "      <th>time</th>\n",
       "    </tr>\n",
       "  </thead>\n",
       "  <tbody>\n",
       "    <tr>\n",
       "      <th>0</th>\n",
       "      <td>KK-4103-CO-VIS-01 - Vermlandsgade indadgående ...</td>\n",
       "      <td>4.444</td>\n",
       "      <td>KK+CO4103=001DL001 - S0202 - Average speed</td>\n",
       "      <td>2025-08-28 11:04:27.993</td>\n",
       "      <td>2025</td>\n",
       "      <td>8</td>\n",
       "      <td>28</td>\n",
       "      <td>11:04:27.993000</td>\n",
       "    </tr>\n",
       "    <tr>\n",
       "      <th>1</th>\n",
       "      <td>KK-4103-CO-VIS-01 - Vermlandsgade indadgående ...</td>\n",
       "      <td>4.722</td>\n",
       "      <td>KK+CO4103=001DL001 - S0202 - Average speed</td>\n",
       "      <td>2025-08-28 11:03:39.268</td>\n",
       "      <td>2025</td>\n",
       "      <td>8</td>\n",
       "      <td>28</td>\n",
       "      <td>11:03:39.268000</td>\n",
       "    </tr>\n",
       "    <tr>\n",
       "      <th>2</th>\n",
       "      <td>KK-4103-CO-VIS-01 - Vermlandsgade indadgående ...</td>\n",
       "      <td>3.611</td>\n",
       "      <td>KK+CO4103=001DL001 - S0202 - Average speed</td>\n",
       "      <td>2025-08-28 11:03:31.321</td>\n",
       "      <td>2025</td>\n",
       "      <td>8</td>\n",
       "      <td>28</td>\n",
       "      <td>11:03:31.321000</td>\n",
       "    </tr>\n",
       "    <tr>\n",
       "      <th>3</th>\n",
       "      <td>KK-4103-CO-VIS-01 - Vermlandsgade indadgående ...</td>\n",
       "      <td>3.889</td>\n",
       "      <td>KK+CO4103=001DL001 - S0202 - Average speed</td>\n",
       "      <td>2025-08-28 11:03:23.415</td>\n",
       "      <td>2025</td>\n",
       "      <td>8</td>\n",
       "      <td>28</td>\n",
       "      <td>11:03:23.415000</td>\n",
       "    </tr>\n",
       "    <tr>\n",
       "      <th>4</th>\n",
       "      <td>KK-4103-CO-VIS-01 - Vermlandsgade indadgående ...</td>\n",
       "      <td>5.000</td>\n",
       "      <td>KK+CO4103=001DL001 - S0202 - Average speed</td>\n",
       "      <td>2025-08-28 11:01:56.461</td>\n",
       "      <td>2025</td>\n",
       "      <td>8</td>\n",
       "      <td>28</td>\n",
       "      <td>11:01:56.461000</td>\n",
       "    </tr>\n",
       "    <tr>\n",
       "      <th>...</th>\n",
       "      <td>...</td>\n",
       "      <td>...</td>\n",
       "      <td>...</td>\n",
       "      <td>...</td>\n",
       "      <td>...</td>\n",
       "      <td>...</td>\n",
       "      <td>...</td>\n",
       "      <td>...</td>\n",
       "    </tr>\n",
       "    <tr>\n",
       "      <th>83880</th>\n",
       "      <td>KK-4103-CO-VIS-01 - Vermlandsgade indadgående ...</td>\n",
       "      <td>3.611</td>\n",
       "      <td>KK+CO4103=001DL001 - S0202 - Average speed</td>\n",
       "      <td>2025-07-28 11:10:01.063</td>\n",
       "      <td>2025</td>\n",
       "      <td>7</td>\n",
       "      <td>28</td>\n",
       "      <td>11:10:01.063000</td>\n",
       "    </tr>\n",
       "    <tr>\n",
       "      <th>83881</th>\n",
       "      <td>KK-4103-CO-VIS-01 - Vermlandsgade indadgående ...</td>\n",
       "      <td>5.000</td>\n",
       "      <td>KK+CO4103=001DL001 - S0202 - Average speed</td>\n",
       "      <td>2025-07-28 11:09:44.903</td>\n",
       "      <td>2025</td>\n",
       "      <td>7</td>\n",
       "      <td>28</td>\n",
       "      <td>11:09:44.903000</td>\n",
       "    </tr>\n",
       "    <tr>\n",
       "      <th>83882</th>\n",
       "      <td>KK-4103-CO-VIS-01 - Vermlandsgade indadgående ...</td>\n",
       "      <td>6.389</td>\n",
       "      <td>KK+CO4103=001DL001 - S0202 - Average speed</td>\n",
       "      <td>2025-07-28 11:09:26.839</td>\n",
       "      <td>2025</td>\n",
       "      <td>7</td>\n",
       "      <td>28</td>\n",
       "      <td>11:09:26.839000</td>\n",
       "    </tr>\n",
       "    <tr>\n",
       "      <th>83883</th>\n",
       "      <td>KK-4103-CO-VIS-01 - Vermlandsgade indadgående ...</td>\n",
       "      <td>3.889</td>\n",
       "      <td>KK+CO4103=001DL001 - S0202 - Average speed</td>\n",
       "      <td>2025-07-28 11:08:40.749</td>\n",
       "      <td>2025</td>\n",
       "      <td>7</td>\n",
       "      <td>28</td>\n",
       "      <td>11:08:40.749000</td>\n",
       "    </tr>\n",
       "    <tr>\n",
       "      <th>83884</th>\n",
       "      <td>KK-4103-CO-VIS-01 - Vermlandsgade indadgående ...</td>\n",
       "      <td>6.389</td>\n",
       "      <td>KK+CO4103=001DL001 - S0202 - Average speed</td>\n",
       "      <td>2025-07-28 11:08:26.339</td>\n",
       "      <td>2025</td>\n",
       "      <td>7</td>\n",
       "      <td>28</td>\n",
       "      <td>11:08:26.339000</td>\n",
       "    </tr>\n",
       "  </tbody>\n",
       "</table>\n",
       "<p>83885 rows × 8 columns</p>\n",
       "</div>"
      ],
      "text/plain": [
       "                                                siteName  scalarValue  \\\n",
       "0      KK-4103-CO-VIS-01 - Vermlandsgade indadgående ...        4.444   \n",
       "1      KK-4103-CO-VIS-01 - Vermlandsgade indadgående ...        4.722   \n",
       "2      KK-4103-CO-VIS-01 - Vermlandsgade indadgående ...        3.611   \n",
       "3      KK-4103-CO-VIS-01 - Vermlandsgade indadgående ...        3.889   \n",
       "4      KK-4103-CO-VIS-01 - Vermlandsgade indadgående ...        5.000   \n",
       "...                                                  ...          ...   \n",
       "83880  KK-4103-CO-VIS-01 - Vermlandsgade indadgående ...        3.611   \n",
       "83881  KK-4103-CO-VIS-01 - Vermlandsgade indadgående ...        5.000   \n",
       "83882  KK-4103-CO-VIS-01 - Vermlandsgade indadgående ...        6.389   \n",
       "83883  KK-4103-CO-VIS-01 - Vermlandsgade indadgående ...        3.889   \n",
       "83884  KK-4103-CO-VIS-01 - Vermlandsgade indadgående ...        6.389   \n",
       "\n",
       "                                       sensorName               timestamp  \\\n",
       "0      KK+CO4103=001DL001 - S0202 - Average speed 2025-08-28 11:04:27.993   \n",
       "1      KK+CO4103=001DL001 - S0202 - Average speed 2025-08-28 11:03:39.268   \n",
       "2      KK+CO4103=001DL001 - S0202 - Average speed 2025-08-28 11:03:31.321   \n",
       "3      KK+CO4103=001DL001 - S0202 - Average speed 2025-08-28 11:03:23.415   \n",
       "4      KK+CO4103=001DL001 - S0202 - Average speed 2025-08-28 11:01:56.461   \n",
       "...                                           ...                     ...   \n",
       "83880  KK+CO4103=001DL001 - S0202 - Average speed 2025-07-28 11:10:01.063   \n",
       "83881  KK+CO4103=001DL001 - S0202 - Average speed 2025-07-28 11:09:44.903   \n",
       "83882  KK+CO4103=001DL001 - S0202 - Average speed 2025-07-28 11:09:26.839   \n",
       "83883  KK+CO4103=001DL001 - S0202 - Average speed 2025-07-28 11:08:40.749   \n",
       "83884  KK+CO4103=001DL001 - S0202 - Average speed 2025-07-28 11:08:26.339   \n",
       "\n",
       "       year  month  day             time  \n",
       "0      2025      8   28  11:04:27.993000  \n",
       "1      2025      8   28  11:03:39.268000  \n",
       "2      2025      8   28  11:03:31.321000  \n",
       "3      2025      8   28  11:03:23.415000  \n",
       "4      2025      8   28  11:01:56.461000  \n",
       "...     ...    ...  ...              ...  \n",
       "83880  2025      7   28  11:10:01.063000  \n",
       "83881  2025      7   28  11:09:44.903000  \n",
       "83882  2025      7   28  11:09:26.839000  \n",
       "83883  2025      7   28  11:08:40.749000  \n",
       "83884  2025      7   28  11:08:26.339000  \n",
       "\n",
       "[83885 rows x 8 columns]"
      ]
     },
     "metadata": {},
     "output_type": "display_data"
    }
   ],
   "source": [
    "# Clean Timestamp \n",
    "# 1. Remove the \"@\" and parse to datetime\n",
    "cykelhastighed[\"timestamp\"] = pd.to_datetime(cykelhastighed[\"@timestamp\"].str.replace(\"@\", \"\"), format=\"%b %d, %Y %H:%M:%S.%f\")\n",
    "\n",
    "# 2. Split into separate columns\n",
    "cykelhastighed[\"year\"] = cykelhastighed[\"timestamp\"].dt.year\n",
    "cykelhastighed[\"month\"] = cykelhastighed[\"timestamp\"].dt.month\n",
    "cykelhastighed[\"day\"] = cykelhastighed[\"timestamp\"].dt.day\n",
    "cykelhastighed[\"time\"] = cykelhastighed[\"timestamp\"].dt.time\n",
    "print(\"test\")\n",
    "# drop @timestamp \n",
    "cykelhastighed = cykelhastighed.drop(columns=\"@timestamp\")\n",
    "display(cykelhastighed)"
   ]
  },
  {
   "cell_type": "code",
   "execution_count": null,
   "id": "08fb94cc",
   "metadata": {},
   "outputs": [],
   "source": []
  }
 ],
 "metadata": {
  "kernelspec": {
   "display_name": "Python 3",
   "language": "python",
   "name": "python3"
  },
  "language_info": {
   "codemirror_mode": {
    "name": "ipython",
    "version": 3
   },
   "file_extension": ".py",
   "mimetype": "text/x-python",
   "name": "python",
   "nbconvert_exporter": "python",
   "pygments_lexer": "ipython3",
   "version": "3.10.6"
  }
 },
 "nbformat": 4,
 "nbformat_minor": 5
}
